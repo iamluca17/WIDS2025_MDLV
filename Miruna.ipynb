{
 "cells": [
  {
   "cell_type": "code",
   "execution_count": 2,
   "metadata": {},
   "outputs": [],
   "source": [
    "import pandas as pd"
   ]
  },
  {
   "cell_type": "code",
   "execution_count": 12,
   "metadata": {},
   "outputs": [],
   "source": [
    "df_train_categ=pd.read_excel(r\"D:\\data_comp\\widsdatathon2025\\TRAIN\\TRAIN_CATEGORICAL_METADATA.xlsx\")\n",
    "df_train_cant = pd.read_excel(r\"D:\\data_comp\\widsdatathon2025\\TRAIN\\TRAIN_QUANTITATIVE_METADATA.xlsx\")\n",
    "df_train_funct = pd.read_csv(r\"D:\\data_comp\\widsdatathon2025\\TRAIN\\TRAIN_FUNCTIONAL_CONNECTOME_MATRICES.csv\")\n",
    "df_train_sol = pd.read_excel(r\"D:\\data_comp\\widsdatathon2025\\TRAIN\\TRAINING_SOLUTIONS.xlsx\")\n",
    "\n",
    "df_test_categ=pd.read_excel(r\"D:\\data_comp\\widsdatathon2025\\TEST\\TEST_CATEGORICAL.xlsx\")\n",
    "df_test_cant = pd.read_excel(r\"D:\\data_comp\\widsdatathon2025\\TEST\\TEST_QUANTITATIVE_METADATA.xlsx\")\n",
    "df_test_funct = pd.read_csv(r\"D:\\data_comp\\widsdatathon2025\\TEST\\TEST_FUNCTIONAL_CONNECTOME_MATRICES.csv\")"
   ]
  },
  {
   "cell_type": "code",
   "execution_count": 40,
   "metadata": {},
   "outputs": [
    {
     "name": "stdout",
     "output_type": "stream",
     "text": [
      "(304, 19928) (1213, 19928)\n"
     ]
    },
    {
     "data": {
      "text/html": [
       "<div>\n",
       "<style scoped>\n",
       "    .dataframe tbody tr th:only-of-type {\n",
       "        vertical-align: middle;\n",
       "    }\n",
       "\n",
       "    .dataframe tbody tr th {\n",
       "        vertical-align: top;\n",
       "    }\n",
       "\n",
       "    .dataframe thead th {\n",
       "        text-align: right;\n",
       "    }\n",
       "</style>\n",
       "<table border=\"1\" class=\"dataframe\">\n",
       "  <thead>\n",
       "    <tr style=\"text-align: right;\">\n",
       "      <th></th>\n",
       "      <th>participant_id</th>\n",
       "      <th>ADHD_Outcome</th>\n",
       "      <th>Sex_F</th>\n",
       "    </tr>\n",
       "  </thead>\n",
       "  <tbody>\n",
       "    <tr>\n",
       "      <th>0</th>\n",
       "      <td>UmrK0vMLopoR</td>\n",
       "      <td>1</td>\n",
       "      <td>1</td>\n",
       "    </tr>\n",
       "    <tr>\n",
       "      <th>1</th>\n",
       "      <td>CPaeQkhcjg7d</td>\n",
       "      <td>1</td>\n",
       "      <td>0</td>\n",
       "    </tr>\n",
       "    <tr>\n",
       "      <th>2</th>\n",
       "      <td>Nb4EetVPm3gs</td>\n",
       "      <td>1</td>\n",
       "      <td>0</td>\n",
       "    </tr>\n",
       "    <tr>\n",
       "      <th>3</th>\n",
       "      <td>p4vPhVu91o4b</td>\n",
       "      <td>1</td>\n",
       "      <td>1</td>\n",
       "    </tr>\n",
       "    <tr>\n",
       "      <th>4</th>\n",
       "      <td>M09PXs7arQ5E</td>\n",
       "      <td>1</td>\n",
       "      <td>1</td>\n",
       "    </tr>\n",
       "    <tr>\n",
       "      <th>...</th>\n",
       "      <td>...</td>\n",
       "      <td>...</td>\n",
       "      <td>...</td>\n",
       "    </tr>\n",
       "    <tr>\n",
       "      <th>1208</th>\n",
       "      <td>Atx7oub96GXS</td>\n",
       "      <td>0</td>\n",
       "      <td>0</td>\n",
       "    </tr>\n",
       "    <tr>\n",
       "      <th>1209</th>\n",
       "      <td>groSbUfkQngM</td>\n",
       "      <td>0</td>\n",
       "      <td>1</td>\n",
       "    </tr>\n",
       "    <tr>\n",
       "      <th>1210</th>\n",
       "      <td>zmxGvIrOD0bt</td>\n",
       "      <td>0</td>\n",
       "      <td>1</td>\n",
       "    </tr>\n",
       "    <tr>\n",
       "      <th>1211</th>\n",
       "      <td>rOmWFuJCud5G</td>\n",
       "      <td>0</td>\n",
       "      <td>0</td>\n",
       "    </tr>\n",
       "    <tr>\n",
       "      <th>1212</th>\n",
       "      <td>k8HhHnnu2wmt</td>\n",
       "      <td>0</td>\n",
       "      <td>0</td>\n",
       "    </tr>\n",
       "  </tbody>\n",
       "</table>\n",
       "<p>1213 rows × 3 columns</p>\n",
       "</div>"
      ],
      "text/plain": [
       "     participant_id  ADHD_Outcome  Sex_F\n",
       "0      UmrK0vMLopoR             1      1\n",
       "1      CPaeQkhcjg7d             1      0\n",
       "2      Nb4EetVPm3gs             1      0\n",
       "3      p4vPhVu91o4b             1      1\n",
       "4      M09PXs7arQ5E             1      1\n",
       "...             ...           ...    ...\n",
       "1208   Atx7oub96GXS             0      0\n",
       "1209   groSbUfkQngM             0      1\n",
       "1210   zmxGvIrOD0bt             0      1\n",
       "1211   rOmWFuJCud5G             0      0\n",
       "1212   k8HhHnnu2wmt             0      0\n",
       "\n",
       "[1213 rows x 3 columns]"
      ]
     },
     "metadata": {},
     "output_type": "display_data"
    }
   ],
   "source": [
    "df_train = pd.merge((pd.merge(df_train_categ,df_train_cant,on=\"participant_id\")),df_train_funct,on=\"participant_id\")\n",
    "df_test = pd.merge((pd.merge(df_test_categ,df_test_cant,on=\"participant_id\")),df_test_funct,on=\"participant_id\")\n",
    "#display(df_train_categ,df_train_cant)\n",
    "print (df_test.shape,df_train.shape)\n",
    "display(df_train_sol)"
   ]
  },
  {
   "cell_type": "code",
   "execution_count": 41,
   "metadata": {},
   "outputs": [
    {
     "data": {
      "text/plain": [
       "Index(['participant_id', 'Basic_Demos_Enroll_Year', 'Basic_Demos_Study_Site',\n",
       "       'PreInt_Demos_Fam_Child_Ethnicity', 'PreInt_Demos_Fam_Child_Race',\n",
       "       'MRI_Track_Scan_Location', 'Barratt_Barratt_P1_Edu',\n",
       "       'Barratt_Barratt_P1_Occ', 'Barratt_Barratt_P2_Edu',\n",
       "       'Barratt_Barratt_P2_Occ',\n",
       "       ...\n",
       "       '195throw_196thcolumn', '195throw_197thcolumn', '195throw_198thcolumn',\n",
       "       '195throw_199thcolumn', '196throw_197thcolumn', '196throw_198thcolumn',\n",
       "       '196throw_199thcolumn', '197throw_198thcolumn', '197throw_199thcolumn',\n",
       "       '198throw_199thcolumn'],\n",
       "      dtype='object', length=19928)"
      ]
     },
     "execution_count": 41,
     "metadata": {},
     "output_type": "execute_result"
    }
   ],
   "source": [
    "df_train.columns"
   ]
  },
  {
   "cell_type": "code",
   "execution_count": 43,
   "metadata": {},
   "outputs": [
    {
     "data": {
      "text/plain": [
       "(364, 19927)"
      ]
     },
     "execution_count": 43,
     "metadata": {},
     "output_type": "execute_result"
    }
   ],
   "source": [
    "from sklearn.model_selection import StratifiedKFold, cross_val_score, train_test_split\n",
    "targets = ['ADHD_Outcome','Sex_F']\n",
    "X_train, X_test, y_train, y_test = train_test_split(df_train.drop(['participant_id'],axis=1), \n",
    "                                                    df_train_sol[targets], \n",
    "                                                    test_size=0.30, \n",
    "                                                    random_state=42)\n",
    "X_test.shape"
   ]
  },
  {
   "cell_type": "code",
   "execution_count": 44,
   "metadata": {},
   "outputs": [],
   "source": [
    "from sklearn.multioutput import MultiOutputClassifier\n",
    "from lightgbm import LGBMClassifier \n",
    "model = MultiOutputClassifier(LGBMClassifier())\n",
    "from sklearn.metrics import f1_score\n",
    "\n",
    "model.fit(X_train,y_train)\n",
    "y_pred = model.predict(X_test)\n",
    "#print('f1: ', f1_score(y_test,y_pred,average='micro'))"
   ]
  },
  {
   "cell_type": "code",
   "execution_count": 49,
   "metadata": {},
   "outputs": [
    {
     "name": "stdout",
     "output_type": "stream",
     "text": [
      "f1:  0.7038123167155426\n"
     ]
    },
    {
     "data": {
      "text/plain": [
       "array([[1, 0],\n",
       "       [1, 0],\n",
       "       [1, 0],\n",
       "       [1, 0],\n",
       "       [0, 1],\n",
       "       [1, 0],\n",
       "       [1, 0],\n",
       "       [1, 0],\n",
       "       [1, 0],\n",
       "       [1, 0],\n",
       "       [1, 0],\n",
       "       [1, 0],\n",
       "       [1, 0],\n",
       "       [1, 1],\n",
       "       [1, 0],\n",
       "       [0, 0],\n",
       "       [1, 0],\n",
       "       [1, 0],\n",
       "       [1, 0],\n",
       "       [1, 0]], dtype=int64)"
      ]
     },
     "execution_count": 49,
     "metadata": {},
     "output_type": "execute_result"
    }
   ],
   "source": [
    "print('f1: ', f1_score(y_test,y_pred,average='micro'))\n",
    "y_pred[0:20,:]"
   ]
  }
 ],
 "metadata": {
  "kernelspec": {
   "display_name": "Python 3",
   "language": "python",
   "name": "python3"
  },
  "language_info": {
   "codemirror_mode": {
    "name": "ipython",
    "version": 3
   },
   "file_extension": ".py",
   "mimetype": "text/x-python",
   "name": "python",
   "nbconvert_exporter": "python",
   "pygments_lexer": "ipython3",
   "version": "3.11.4"
  }
 },
 "nbformat": 4,
 "nbformat_minor": 2
}
